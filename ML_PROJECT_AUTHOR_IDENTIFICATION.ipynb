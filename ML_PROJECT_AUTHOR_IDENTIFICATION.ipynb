{
  "nbformat": 4,
  "nbformat_minor": 0,
  "metadata": {
    "colab": {
      "provenance": [],
      "include_colab_link": true
    },
    "kernelspec": {
      "name": "python3",
      "display_name": "Python 3"
    },
    "language_info": {
      "name": "python"
    }
  },
  "cells": [
    {
      "cell_type": "markdown",
      "metadata": {
        "id": "view-in-github",
        "colab_type": "text"
      },
      "source": [
        "<a href=\"https://colab.research.google.com/github/harshada891git/python-codes/blob/main/ML_PROJECT_AUTHOR_IDENTIFICATION.ipynb\" target=\"_parent\"><img src=\"https://colab.research.google.com/assets/colab-badge.svg\" alt=\"Open In Colab\"/></a>"
      ]
    },
    {
      "cell_type": "markdown",
      "source": [
        "*FINAL*"
      ],
      "metadata": {
        "id": "CdjUyswpwi7C"
      }
    },
    {
      "cell_type": "markdown",
      "source": [
        "# AUTHOR IDENTIFICATION BY MULTINOMIAL NAIVE BAYES"
      ],
      "metadata": {
        "id": "y9yYx99MrMqN"
      }
    },
    {
      "cell_type": "markdown",
      "source": [
        "[Report](https://docs.google.com/document/d/1y1EaUIal3Ma7ZVxN65fPgjV_Qs8wpeAd/edit?usp=sharing&ouid=106731915395796850223&rtpof=true&sd=true)"
      ],
      "metadata": {
        "id": "hOJASnunuMG1"
      }
    },
    {
      "cell_type": "markdown",
      "source": [
        "### ML Lab Project 2022"
      ],
      "metadata": {
        "id": "9wV2aWyrrg_s"
      }
    },
    {
      "cell_type": "markdown",
      "source": [
        "All imports"
      ],
      "metadata": {
        "id": "nzU1k5pmrcUf"
      }
    },
    {
      "cell_type": "code",
      "execution_count": null,
      "metadata": {
        "id": "EppeZTfooOJ4"
      },
      "outputs": [],
      "source": [
        "import pandas as pd\n",
        "import numpy as np\n",
        "from sklearn.feature_selection import SelectPercentile, f_classif\n",
        "from sklearn.feature_extraction.text import TfidfVectorizer\n",
        "from sklearn.naive_bayes import MultinomialNB\n",
        "from sklearn.model_selection import train_test_split\n",
        "from sklearn.metrics import classification_report\n",
        "from sklearn.metrics import confusion_matrix,  ConfusionMatrixDisplay\n",
        "from sklearn.metrics import accuracy_score"
      ]
    },
    {
      "cell_type": "code",
      "source": [
        "df = pd.DataFrame(pd.read_csv('/content/drive/MyDrive/author_identification/train.csv',index_col = 0))\n",
        "df.head()"
      ],
      "metadata": {
        "id": "7XrDgy6LpVMv",
        "colab": {
          "base_uri": "https://localhost:8080/",
          "height": 238
        },
        "outputId": "89e2b7f4-2a28-4886-abda-4c68ba3238ec"
      },
      "execution_count": null,
      "outputs": [
        {
          "output_type": "execute_result",
          "data": {
            "text/plain": [
              "                                                      text author\n",
              "id                                                               \n",
              "id26305  This process, however, afforded me no means of...    EAP\n",
              "id17569  It never once occurred to me that the fumbling...    HPL\n",
              "id11008  In his left hand was a gold snuff box, from wh...    EAP\n",
              "id27763  How lovely is spring As we looked from Windsor...    MWS\n",
              "id12958  Finding nothing else, not even gold, the Super...    HPL"
            ],
            "text/html": [
              "\n",
              "  <div id=\"df-b38d013e-08df-4c3e-be6e-fa8211953d5b\">\n",
              "    <div class=\"colab-df-container\">\n",
              "      <div>\n",
              "<style scoped>\n",
              "    .dataframe tbody tr th:only-of-type {\n",
              "        vertical-align: middle;\n",
              "    }\n",
              "\n",
              "    .dataframe tbody tr th {\n",
              "        vertical-align: top;\n",
              "    }\n",
              "\n",
              "    .dataframe thead th {\n",
              "        text-align: right;\n",
              "    }\n",
              "</style>\n",
              "<table border=\"1\" class=\"dataframe\">\n",
              "  <thead>\n",
              "    <tr style=\"text-align: right;\">\n",
              "      <th></th>\n",
              "      <th>text</th>\n",
              "      <th>author</th>\n",
              "    </tr>\n",
              "    <tr>\n",
              "      <th>id</th>\n",
              "      <th></th>\n",
              "      <th></th>\n",
              "    </tr>\n",
              "  </thead>\n",
              "  <tbody>\n",
              "    <tr>\n",
              "      <th>id26305</th>\n",
              "      <td>This process, however, afforded me no means of...</td>\n",
              "      <td>EAP</td>\n",
              "    </tr>\n",
              "    <tr>\n",
              "      <th>id17569</th>\n",
              "      <td>It never once occurred to me that the fumbling...</td>\n",
              "      <td>HPL</td>\n",
              "    </tr>\n",
              "    <tr>\n",
              "      <th>id11008</th>\n",
              "      <td>In his left hand was a gold snuff box, from wh...</td>\n",
              "      <td>EAP</td>\n",
              "    </tr>\n",
              "    <tr>\n",
              "      <th>id27763</th>\n",
              "      <td>How lovely is spring As we looked from Windsor...</td>\n",
              "      <td>MWS</td>\n",
              "    </tr>\n",
              "    <tr>\n",
              "      <th>id12958</th>\n",
              "      <td>Finding nothing else, not even gold, the Super...</td>\n",
              "      <td>HPL</td>\n",
              "    </tr>\n",
              "  </tbody>\n",
              "</table>\n",
              "</div>\n",
              "      <button class=\"colab-df-convert\" onclick=\"convertToInteractive('df-b38d013e-08df-4c3e-be6e-fa8211953d5b')\"\n",
              "              title=\"Convert this dataframe to an interactive table.\"\n",
              "              style=\"display:none;\">\n",
              "        \n",
              "  <svg xmlns=\"http://www.w3.org/2000/svg\" height=\"24px\"viewBox=\"0 0 24 24\"\n",
              "       width=\"24px\">\n",
              "    <path d=\"M0 0h24v24H0V0z\" fill=\"none\"/>\n",
              "    <path d=\"M18.56 5.44l.94 2.06.94-2.06 2.06-.94-2.06-.94-.94-2.06-.94 2.06-2.06.94zm-11 1L8.5 8.5l.94-2.06 2.06-.94-2.06-.94L8.5 2.5l-.94 2.06-2.06.94zm10 10l.94 2.06.94-2.06 2.06-.94-2.06-.94-.94-2.06-.94 2.06-2.06.94z\"/><path d=\"M17.41 7.96l-1.37-1.37c-.4-.4-.92-.59-1.43-.59-.52 0-1.04.2-1.43.59L10.3 9.45l-7.72 7.72c-.78.78-.78 2.05 0 2.83L4 21.41c.39.39.9.59 1.41.59.51 0 1.02-.2 1.41-.59l7.78-7.78 2.81-2.81c.8-.78.8-2.07 0-2.86zM5.41 20L4 18.59l7.72-7.72 1.47 1.35L5.41 20z\"/>\n",
              "  </svg>\n",
              "      </button>\n",
              "      \n",
              "  <style>\n",
              "    .colab-df-container {\n",
              "      display:flex;\n",
              "      flex-wrap:wrap;\n",
              "      gap: 12px;\n",
              "    }\n",
              "\n",
              "    .colab-df-convert {\n",
              "      background-color: #E8F0FE;\n",
              "      border: none;\n",
              "      border-radius: 50%;\n",
              "      cursor: pointer;\n",
              "      display: none;\n",
              "      fill: #1967D2;\n",
              "      height: 32px;\n",
              "      padding: 0 0 0 0;\n",
              "      width: 32px;\n",
              "    }\n",
              "\n",
              "    .colab-df-convert:hover {\n",
              "      background-color: #E2EBFA;\n",
              "      box-shadow: 0px 1px 2px rgba(60, 64, 67, 0.3), 0px 1px 3px 1px rgba(60, 64, 67, 0.15);\n",
              "      fill: #174EA6;\n",
              "    }\n",
              "\n",
              "    [theme=dark] .colab-df-convert {\n",
              "      background-color: #3B4455;\n",
              "      fill: #D2E3FC;\n",
              "    }\n",
              "\n",
              "    [theme=dark] .colab-df-convert:hover {\n",
              "      background-color: #434B5C;\n",
              "      box-shadow: 0px 1px 3px 1px rgba(0, 0, 0, 0.15);\n",
              "      filter: drop-shadow(0px 1px 2px rgba(0, 0, 0, 0.3));\n",
              "      fill: #FFFFFF;\n",
              "    }\n",
              "  </style>\n",
              "\n",
              "      <script>\n",
              "        const buttonEl =\n",
              "          document.querySelector('#df-b38d013e-08df-4c3e-be6e-fa8211953d5b button.colab-df-convert');\n",
              "        buttonEl.style.display =\n",
              "          google.colab.kernel.accessAllowed ? 'block' : 'none';\n",
              "\n",
              "        async function convertToInteractive(key) {\n",
              "          const element = document.querySelector('#df-b38d013e-08df-4c3e-be6e-fa8211953d5b');\n",
              "          const dataTable =\n",
              "            await google.colab.kernel.invokeFunction('convertToInteractive',\n",
              "                                                     [key], {});\n",
              "          if (!dataTable) return;\n",
              "\n",
              "          const docLinkHtml = 'Like what you see? Visit the ' +\n",
              "            '<a target=\"_blank\" href=https://colab.research.google.com/notebooks/data_table.ipynb>data table notebook</a>'\n",
              "            + ' to learn more about interactive tables.';\n",
              "          element.innerHTML = '';\n",
              "          dataTable['output_type'] = 'display_data';\n",
              "          await google.colab.output.renderOutput(dataTable, element);\n",
              "          const docLink = document.createElement('div');\n",
              "          docLink.innerHTML = docLinkHtml;\n",
              "          element.appendChild(docLink);\n",
              "        }\n",
              "      </script>\n",
              "    </div>\n",
              "  </div>\n",
              "  "
            ]
          },
          "metadata": {},
          "execution_count": 4
        }
      ]
    },
    {
      "cell_type": "markdown",
      "source": [
        "Note that\n",
        "- EAP: Edgar Allen Poe\n",
        "- HPL: HP Lovecraft\n",
        "- MWS: Mary Wollstonecraft Shelley"
      ],
      "metadata": {
        "id": "ZhV7k7tXsNBM"
      }
    },
    {
      "cell_type": "code",
      "source": [
        "df['text'][0]"
      ],
      "metadata": {
        "colab": {
          "base_uri": "https://localhost:8080/",
          "height": 55
        },
        "id": "MeYRUxrbxrp7",
        "outputId": "788027d0-4345-4e06-a623-4e951d98aa08"
      },
      "execution_count": null,
      "outputs": [
        {
          "output_type": "execute_result",
          "data": {
            "text/plain": [
              "'This process, however, afforded me no means of ascertaining the dimensions of my dungeon; as I might make its circuit, and return to the point whence I set out, without being aware of the fact; so perfectly uniform seemed the wall.'"
            ],
            "application/vnd.google.colaboratory.intrinsic+json": {
              "type": "string"
            }
          },
          "metadata": {},
          "execution_count": 5
        }
      ]
    },
    {
      "cell_type": "markdown",
      "source": [
        "- This removes stopwords, cleans the text and assigns higher value to unique words.\n",
        "- TFIDF-Term Frequency Inverse Document Frequency"
      ],
      "metadata": {
        "id": "O3Uvy1Kvr-2t"
      }
    },
    {
      "cell_type": "code",
      "source": [
        "global vectorizer\n",
        "vectorizer = TfidfVectorizer(sublinear_tf=True, max_df=0.5, stop_words='english')\n",
        "X = vectorizer.fit_transform(df['text'])\n",
        "print(X)"
      ],
      "metadata": {
        "colab": {
          "base_uri": "https://localhost:8080/"
        },
        "id": "P6iytMYdYvjw",
        "outputId": "b5341fe3-d9cb-4ded-e78a-caafd82db6b0"
      },
      "execution_count": null,
      "outputs": [
        {
          "output_type": "stream",
          "name": "stdout",
          "text": [
            "  (0, 23988)\t0.21696364362967083\n",
            "  (0, 23052)\t0.3020034613752269\n",
            "  (0, 15882)\t0.2559503341763652\n",
            "  (0, 8144)\t0.2052999200715928\n",
            "  (0, 1620)\t0.2407393021862237\n",
            "  (0, 19497)\t0.20621425345940886\n",
            "  (0, 16441)\t0.19726524833055104\n",
            "  (0, 18392)\t0.20353956045559748\n",
            "  (0, 3675)\t0.29558576878201387\n",
            "  (0, 13253)\t0.18471034157047353\n",
            "  (0, 6830)\t0.29864855674549473\n",
            "  (0, 6069)\t0.2742498756190863\n",
            "  (0, 1269)\t0.31998444990842223\n",
            "  (0, 13553)\t0.20311289030711907\n",
            "  (0, 452)\t0.2540972823244096\n",
            "  (0, 16946)\t0.2813134552560119\n",
            "  (1, 13929)\t0.5230718227301623\n",
            "  (1, 13692)\t0.41209186654388175\n",
            "  (1, 9165)\t0.5943778533208967\n",
            "  (1, 14936)\t0.45087817564810995\n",
            "  (2, 19018)\t0.24781357639605875\n",
            "  (2, 19381)\t0.19755701579869472\n",
            "  (2, 16596)\t0.1857832566905073\n",
            "  (2, 9778)\t0.21029769358945272\n",
            "  (2, 551)\t0.17052744670322914\n",
            "  :\t:\n",
            "  (19574, 12987)\t0.2702275822951441\n",
            "  (19575, 3794)\t0.5971840599916342\n",
            "  (19575, 12739)\t0.5237677915663489\n",
            "  (19575, 20376)\t0.6074853899556912\n",
            "  (19576, 499)\t0.4024615124367227\n",
            "  (19576, 8332)\t0.386445982839286\n",
            "  (19576, 8176)\t0.386445982839286\n",
            "  (19576, 15262)\t0.386445982839286\n",
            "  (19576, 9049)\t0.3156729958742664\n",
            "  (19576, 13244)\t0.37508278375293125\n",
            "  (19576, 10874)\t0.3351254014337141\n",
            "  (19576, 19060)\t0.19328131925017955\n",
            "  (19577, 20929)\t0.48388374692720487\n",
            "  (19577, 4690)\t0.48388374692720487\n",
            "  (19577, 11970)\t0.4427396877509404\n",
            "  (19577, 14581)\t0.41154276807796575\n",
            "  (19577, 17735)\t0.3324789053171524\n",
            "  (19577, 12775)\t0.23618834723883156\n",
            "  (19578, 3769)\t0.41681260681395066\n",
            "  (19578, 19551)\t0.3839921691239909\n",
            "  (19578, 19701)\t0.35117173143403135\n",
            "  (19578, 711)\t0.2944606258218331\n",
            "  (19578, 9595)\t0.4231353025908365\n",
            "  (19578, 13879)\t0.41681260681395066\n",
            "  (19578, 12401)\t0.3406059104551333\n"
          ]
        }
      ]
    },
    {
      "cell_type": "markdown",
      "source": [
        "We use selector module from sklearn to extract features with highest TFIDF value attached. This reduces computation time."
      ],
      "metadata": {
        "id": "rik0l0svxf6O"
      }
    },
    {
      "cell_type": "code",
      "source": [
        "y = df['author']\n",
        "global selector\n",
        "selector = SelectPercentile(f_classif, percentile=20)\n",
        "selector.fit(X, y)\n",
        "X = selector.transform(X).toarray()"
      ],
      "metadata": {
        "id": "sryFLfDMfyAN"
      },
      "execution_count": null,
      "outputs": []
    },
    {
      "cell_type": "markdown",
      "source": [
        "Note that increasing the percentie value will increase accuracy but this will make colab crash multiple times."
      ],
      "metadata": {
        "id": "rlvVovMko-29"
      }
    },
    {
      "cell_type": "markdown",
      "source": [
        "[Moltinomial nb resources ](https://www.mygreatlearning.com/blog/multinomial-naive-bayes-explained/)"
      ],
      "metadata": {
        "id": "qqXRijGyDu4f"
      }
    },
    {
      "cell_type": "markdown",
      "source": [
        "Multinomial Naïve Bayes considers a feature vector where a given term represents the number of times it appears i.e. frequency."
      ],
      "metadata": {
        "id": "n4tI2bi8EWKX"
      }
    },
    {
      "cell_type": "code",
      "source": [
        "model = MultinomialNB()\n",
        "X_train, X_test, y_train, y_test = train_test_split(X, y, test_size=0.30, random_state=42)\n",
        "model.fit(X_train, y_train)\n",
        "score_train = model.score(X_train, y_train)\n",
        "print('Train set score:', score_train)"
      ],
      "metadata": {
        "colab": {
          "base_uri": "https://localhost:8080/"
        },
        "id": "Gfv56BwojQ45",
        "outputId": "60018c81-7cae-4563-a84c-99e70b9d9bcd"
      },
      "execution_count": null,
      "outputs": [
        {
          "output_type": "stream",
          "name": "stdout",
          "text": [
            "Train set score: 0.8615833637358629\n"
          ]
        }
      ]
    },
    {
      "cell_type": "code",
      "source": [
        "model.predict(X_test)"
      ],
      "metadata": {
        "id": "D2llh6V8mXYO",
        "colab": {
          "base_uri": "https://localhost:8080/"
        },
        "outputId": "4d7423a0-30cf-4deb-a1df-7cbbe78f943b"
      },
      "execution_count": null,
      "outputs": [
        {
          "output_type": "execute_result",
          "data": {
            "text/plain": [
              "array(['EAP', 'MWS', 'EAP', ..., 'MWS', 'HPL', 'HPL'], dtype='<U3')"
            ]
          },
          "metadata": {},
          "execution_count": 9
        }
      ]
    },
    {
      "cell_type": "code",
      "source": [
        "print('Test set score:',model.score(X_test,y_test))"
      ],
      "metadata": {
        "id": "lCnrfMh7mhNr",
        "colab": {
          "base_uri": "https://localhost:8080/"
        },
        "outputId": "4f03023b-d44b-445a-e7bc-db93c1e5a40f"
      },
      "execution_count": null,
      "outputs": [
        {
          "output_type": "stream",
          "name": "stdout",
          "text": [
            "Test set score: 0.811712631937351\n"
          ]
        }
      ]
    },
    {
      "cell_type": "markdown",
      "source": [
        "Printing the metrics"
      ],
      "metadata": {
        "id": "OlsCkD0M0EXZ"
      }
    },
    {
      "cell_type": "code",
      "source": [
        "y_pred=model.predict(X_test)\n",
        "y_actual=y_test\n",
        "print(confusion_matrix(y_actual,y_pred),'\\n\\n')\n",
        "print(classification_report(y_actual,y_pred))"
      ],
      "metadata": {
        "id": "hfjTi_eOfXWZ",
        "colab": {
          "base_uri": "https://localhost:8080/"
        },
        "outputId": "993ec51f-2ea9-489d-e4e7-d478b3f9c1a4"
      },
      "execution_count": null,
      "outputs": [
        {
          "output_type": "stream",
          "name": "stdout",
          "text": [
            "[[2116   67  152]\n",
            " [ 399 1187   91]\n",
            " [ 350   47 1465]] \n",
            "\n",
            "\n",
            "              precision    recall  f1-score   support\n",
            "\n",
            "         EAP       0.74      0.91      0.81      2335\n",
            "         HPL       0.91      0.71      0.80      1677\n",
            "         MWS       0.86      0.79      0.82      1862\n",
            "\n",
            "    accuracy                           0.81      5874\n",
            "   macro avg       0.84      0.80      0.81      5874\n",
            "weighted avg       0.83      0.81      0.81      5874\n",
            "\n"
          ]
        }
      ]
    },
    {
      "cell_type": "code",
      "source": [
        "cmd_obj = ConfusionMatrixDisplay(confusion_matrix(y_actual,y_pred), display_labels=['EAP', 'HPL', 'MWS'])\n",
        "cmd_obj.plot()\n",
        "cmd_obj.ax_.set(xlabel='Predicted', ylabel='Actual')"
      ],
      "metadata": {
        "colab": {
          "base_uri": "https://localhost:8080/",
          "height": 297
        },
        "id": "VMHQ1vzTvoaQ",
        "outputId": "c8f35b53-6dc3-4774-c32a-1c98e6eeb1e6"
      },
      "execution_count": null,
      "outputs": [
        {
          "output_type": "execute_result",
          "data": {
            "text/plain": [
              "[Text(0, 0.5, 'Actual'), Text(0.5, 0, 'Predicted')]"
            ]
          },
          "metadata": {},
          "execution_count": 12
        },
        {
          "output_type": "display_data",
          "data": {
            "text/plain": [
              "<Figure size 432x288 with 2 Axes>"
            ],
            "image/png": "[encoded data removed]"
          },
          "metadata": {
            "needs_background": "light"
          }
        }
      ]
    },
    {
      "cell_type": "code",
      "source": [],
      "metadata": {
        "id": "xQndcbh1jEY_"
      },
      "execution_count": null,
      "outputs": []
    }
  ]
}